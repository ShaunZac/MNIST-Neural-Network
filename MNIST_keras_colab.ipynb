{
  "nbformat": 4,
  "nbformat_minor": 0,
  "metadata": {
    "colab": {
      "name": "MNIST_keras_colab.ipynb",
      "provenance": [],
      "toc_visible": true,
      "authorship_tag": "ABX9TyO6V3UloOYm4e+2AFacH0am",
      "include_colab_link": true
    },
    "kernelspec": {
      "name": "python3",
      "display_name": "Python 3"
    },
    "accelerator": "GPU"
  },
  "cells": [
    {
      "cell_type": "markdown",
      "metadata": {
        "id": "view-in-github",
        "colab_type": "text"
      },
      "source": [
        "<a href=\"https://colab.research.google.com/github/ShaunZac/Neural-Network/blob/master/MNIST_keras_colab.ipynb\" target=\"_parent\"><img src=\"https://colab.research.google.com/assets/colab-badge.svg\" alt=\"Open In Colab\"/></a>"
      ]
    },
    {
      "cell_type": "markdown",
      "metadata": {
        "id": "i02qp1TBg_9b",
        "colab_type": "text"
      },
      "source": [
        "# Importing Stuff"
      ]
    },
    {
      "cell_type": "code",
      "metadata": {
        "id": "yKUrClvzg4gV",
        "colab_type": "code",
        "colab": {
          "base_uri": "https://localhost:8080/",
          "height": 34
        },
        "outputId": "da52e405-f6d8-4ddb-8227-9747ed38c4b9"
      },
      "source": [
        "import numpy as np\n",
        "import tensorflow as tf\n",
        "import pandas as pd\n",
        "from keras import layers\n",
        "from keras import losses\n",
        "from keras.layers import Input, Dense, Activation, ZeroPadding2D, BatchNormalization, Flatten, Conv2D\n",
        "from keras.layers import AveragePooling2D, MaxPooling2D, Dropout, GlobalMaxPooling2D, GlobalAveragePooling2D\n",
        "from keras.models import Model\n",
        "from keras.preprocessing import image\n",
        "from keras.utils import layer_utils\n",
        "from keras.utils.data_utils import get_file\n",
        "from keras.applications.imagenet_utils import preprocess_input\n",
        "from IPython.display import SVG\n",
        "from keras.utils.vis_utils import model_to_dot\n",
        "from keras.utils import plot_model\n",
        "import keras.backend as K\n",
        "K.set_image_data_format('channels_last')\n",
        "import matplotlib.pyplot as plt\n",
        "from matplotlib.pyplot import imshow"
      ],
      "execution_count": 1,
      "outputs": [
        {
          "output_type": "stream",
          "text": [
            "Using TensorFlow backend.\n"
          ],
          "name": "stderr"
        }
      ]
    },
    {
      "cell_type": "markdown",
      "metadata": {
        "id": "NN45keCLhH8x",
        "colab_type": "text"
      },
      "source": [
        "# Loading the data and pre-processing it"
      ]
    },
    {
      "cell_type": "code",
      "metadata": {
        "id": "Lfowd5xpg-3S",
        "colab_type": "code",
        "outputId": "192d368b-4422-4ee0-d70e-a9b456fd5f19",
        "colab": {
          "base_uri": "https://localhost:8080/",
          "height": 151
        }
      },
      "source": [
        "(X_train_orig, Y_train), (X_test_orig, Y_test) = tf.keras.datasets.mnist.load_data()\n",
        "Y_train = pd.get_dummies(pd.Series(Y_train).astype('category')).to_numpy()\n",
        "Y_test = pd.get_dummies(pd.Series(Y_test).astype('category')).to_numpy()\n",
        "\n",
        "X_train = X_train_orig/255.\n",
        "X_test = X_test_orig/255.\n",
        "\n",
        "train_ex = X_train.shape[0]\n",
        "test_ex = X_test.shape[0]\n",
        "X_train = X_train.reshape(train_ex, 28, 28, 1)\n",
        "X_test = X_test.reshape(test_ex, 28, 28, 1)\n",
        "\n",
        "print (\"number of training examples = \" + str(X_train.shape[0]))\n",
        "print (\"number of test examples = \" + str(X_test.shape[0]))\n",
        "print (\"X_train shape: \" + str(X_train.shape))\n",
        "print (\"Y_train shape: \" + str(Y_train.shape))\n",
        "print (\"X_test shape: \" + str(X_test.shape))\n",
        "print (\"Y_test shape: \" + str(Y_test.shape))"
      ],
      "execution_count": 2,
      "outputs": [
        {
          "output_type": "stream",
          "text": [
            "Downloading data from https://storage.googleapis.com/tensorflow/tf-keras-datasets/mnist.npz\n",
            "11493376/11490434 [==============================] - 0s 0us/step\n",
            "number of training examples = 60000\n",
            "number of test examples = 10000\n",
            "X_train shape: (60000, 28, 28, 1)\n",
            "Y_train shape: (60000, 10)\n",
            "X_test shape: (10000, 28, 28, 1)\n",
            "Y_test shape: (10000, 10)\n"
          ],
          "name": "stdout"
        }
      ]
    },
    {
      "cell_type": "markdown",
      "metadata": {
        "id": "v5bG4QtWh66a",
        "colab_type": "text"
      },
      "source": [
        "# Defining my Model"
      ]
    },
    {
      "cell_type": "code",
      "metadata": {
        "id": "8IDIsfhvh5GW",
        "colab_type": "code",
        "colab": {}
      },
      "source": [
        "def myModel(input_shape):\n",
        "    \"\"\"\n",
        "    Implementation of the HappyModel.\n",
        "    \n",
        "    Arguments:\n",
        "    input_shape -- shape of the images of the dataset\n",
        "        (height, width, channels) as a tuple.  \n",
        "        Note that this does not include the 'batch' as a dimension.\n",
        "        If you have a batch like 'X_train', \n",
        "        then you can provide the input_shape using\n",
        "        X_train.shape[1:]\n",
        "\n",
        "    Returns:\n",
        "    model -- a Model() instance in Keras\n",
        "    \"\"\"\n",
        "      \n",
        "    # Define the input placeholder as a tensor with shape input_shape. Think of this as your input image!\n",
        "    X_input = Input(input_shape)\n",
        "\n",
        "    # Zero-Padding: pads the border of X_input with zeroes\n",
        "    X = ZeroPadding2D((3, 3))(X_input)\n",
        "\n",
        "    # CONV -> BN -> RELU Block applied to X\n",
        "    X = Conv2D(32, (7, 7), strides = (1, 1), name = 'conv0')(X)\n",
        "    X = BatchNormalization(axis = 3, name = 'bn0')(X)\n",
        "    X = Activation('relu')(X)\n",
        "\n",
        "    # MAXPOOL\n",
        "    X = MaxPooling2D((2, 2), name='max_pool')(X)\n",
        "\n",
        "    # FLATTEN X (means convert it to a vector) + FULLYCONNECTED\n",
        "    X = Flatten()(X)\n",
        "    X = Dense(10, activation='sigmoid', name='fc')(X)\n",
        "\n",
        "    # Create model. This creates your Keras model instance, you'll use this instance to train/test the model.\n",
        "    model = Model(inputs = X_input, outputs = X, name='myModel')    \n",
        "    \n",
        "    return model"
      ],
      "execution_count": 0,
      "outputs": []
    },
    {
      "cell_type": "markdown",
      "metadata": {
        "id": "9abyqWNQiISB",
        "colab_type": "text"
      },
      "source": [
        "## Training the model"
      ]
    },
    {
      "cell_type": "code",
      "metadata": {
        "id": "VuxJ_Caih9BH",
        "colab_type": "code",
        "outputId": "061a5df5-50a4-429a-8c25-2c241338a7d8",
        "colab": {
          "base_uri": "https://localhost:8080/",
          "height": 954
        }
      },
      "source": [
        "%matplotlib inline\n",
        "model = myModel(X_train.shape[1:])\n",
        "model.compile(loss=losses.categorical_crossentropy, optimizer='Adam', metrics=['accuracy'])\n",
        "history = model.fit(X_train, Y_train, validation_data = (X_test, Y_test), epochs = 20, batch_size = 64)\n",
        "\n",
        "plt.plot(history.history['loss'], label='train')\n",
        "plt.plot(history.history['val_loss'], label='test')\n",
        "plt.legend()\n",
        "plt.show()"
      ],
      "execution_count": 4,
      "outputs": [
        {
          "output_type": "stream",
          "text": [
            "Train on 60000 samples, validate on 10000 samples\n",
            "Epoch 1/20\n",
            "60000/60000 [==============================] - 11s 187us/step - loss: 0.1661 - accuracy: 0.9485 - val_loss: 0.0665 - val_accuracy: 0.9794\n",
            "Epoch 2/20\n",
            "60000/60000 [==============================] - 5s 82us/step - loss: 0.0654 - accuracy: 0.9798 - val_loss: 0.0528 - val_accuracy: 0.9846\n",
            "Epoch 3/20\n",
            "60000/60000 [==============================] - 5s 81us/step - loss: 0.0486 - accuracy: 0.9848 - val_loss: 0.0428 - val_accuracy: 0.9862\n",
            "Epoch 4/20\n",
            "60000/60000 [==============================] - 5s 81us/step - loss: 0.0424 - accuracy: 0.9864 - val_loss: 0.0452 - val_accuracy: 0.9849\n",
            "Epoch 5/20\n",
            "60000/60000 [==============================] - 5s 81us/step - loss: 0.0330 - accuracy: 0.9893 - val_loss: 0.0432 - val_accuracy: 0.9864\n",
            "Epoch 6/20\n",
            "60000/60000 [==============================] - 5s 81us/step - loss: 0.0292 - accuracy: 0.9905 - val_loss: 0.0472 - val_accuracy: 0.9868\n",
            "Epoch 7/20\n",
            "60000/60000 [==============================] - 5s 81us/step - loss: 0.0252 - accuracy: 0.9915 - val_loss: 0.0472 - val_accuracy: 0.9860\n",
            "Epoch 8/20\n",
            "60000/60000 [==============================] - 5s 81us/step - loss: 0.0212 - accuracy: 0.9932 - val_loss: 0.0439 - val_accuracy: 0.9867\n",
            "Epoch 9/20\n",
            "60000/60000 [==============================] - 5s 81us/step - loss: 0.0191 - accuracy: 0.9935 - val_loss: 0.0409 - val_accuracy: 0.9885\n",
            "Epoch 10/20\n",
            "60000/60000 [==============================] - 5s 80us/step - loss: 0.0152 - accuracy: 0.9953 - val_loss: 0.0450 - val_accuracy: 0.9885\n",
            "Epoch 11/20\n",
            "60000/60000 [==============================] - 5s 81us/step - loss: 0.0132 - accuracy: 0.9959 - val_loss: 0.0562 - val_accuracy: 0.9852\n",
            "Epoch 12/20\n",
            "60000/60000 [==============================] - 5s 80us/step - loss: 0.0117 - accuracy: 0.9963 - val_loss: 0.0423 - val_accuracy: 0.9873\n",
            "Epoch 13/20\n",
            "60000/60000 [==============================] - 5s 81us/step - loss: 0.0118 - accuracy: 0.9959 - val_loss: 0.0436 - val_accuracy: 0.9867\n",
            "Epoch 14/20\n",
            "60000/60000 [==============================] - 5s 80us/step - loss: 0.0090 - accuracy: 0.9969 - val_loss: 0.0544 - val_accuracy: 0.9865\n",
            "Epoch 15/20\n",
            "60000/60000 [==============================] - 5s 81us/step - loss: 0.0086 - accuracy: 0.9971 - val_loss: 0.0513 - val_accuracy: 0.9886\n",
            "Epoch 16/20\n",
            "60000/60000 [==============================] - 5s 81us/step - loss: 0.0067 - accuracy: 0.9979 - val_loss: 0.0555 - val_accuracy: 0.9877\n",
            "Epoch 17/20\n",
            "60000/60000 [==============================] - 5s 80us/step - loss: 0.0068 - accuracy: 0.9978 - val_loss: 0.0519 - val_accuracy: 0.9879\n",
            "Epoch 18/20\n",
            "60000/60000 [==============================] - 5s 80us/step - loss: 0.0066 - accuracy: 0.9976 - val_loss: 0.0622 - val_accuracy: 0.9862\n",
            "Epoch 19/20\n",
            "60000/60000 [==============================] - 5s 80us/step - loss: 0.0066 - accuracy: 0.9977 - val_loss: 0.0524 - val_accuracy: 0.9881\n",
            "Epoch 20/20\n",
            "60000/60000 [==============================] - 5s 80us/step - loss: 0.0050 - accuracy: 0.9984 - val_loss: 0.0629 - val_accuracy: 0.9853\n"
          ],
          "name": "stdout"
        },
        {
          "output_type": "display_data",
          "data": {
            "image/png": "[encoded data removed]",
            "text/plain": [
              "<Figure size 432x288 with 1 Axes>"
            ]
          },
          "metadata": {
            "tags": [],
            "needs_background": "light"
          }
        }
      ]
    },
    {
      "cell_type": "markdown",
      "metadata": {
        "id": "M3hcIo1-iN7P",
        "colab_type": "text"
      },
      "source": [
        "## Let us train it for another 10 epochs and see the difference"
      ]
    },
    {
      "cell_type": "code",
      "metadata": {
        "id": "k6PxNkd1iT-R",
        "colab_type": "code",
        "outputId": "0cb690d6-52d2-4c87-f8ab-405c1a04f316",
        "colab": {
          "base_uri": "https://localhost:8080/",
          "height": 386
        }
      },
      "source": [
        "model.fit(X_train, Y_train, validation_data = (X_test, Y_test), epochs = 10, batch_size = 64)"
      ],
      "execution_count": 5,
      "outputs": [
        {
          "output_type": "stream",
          "text": [
            "Train on 60000 samples, validate on 10000 samples\n",
            "Epoch 1/10\n",
            "60000/60000 [==============================] - 5s 81us/step - loss: 0.0044 - accuracy: 0.9986 - val_loss: 0.0533 - val_accuracy: 0.9886\n",
            "Epoch 2/10\n",
            "60000/60000 [==============================] - 5s 80us/step - loss: 0.0042 - accuracy: 0.9986 - val_loss: 0.0525 - val_accuracy: 0.9881\n",
            "Epoch 3/10\n",
            "60000/60000 [==============================] - 5s 80us/step - loss: 0.0040 - accuracy: 0.9988 - val_loss: 0.0719 - val_accuracy: 0.9847\n",
            "Epoch 4/10\n",
            "60000/60000 [==============================] - 5s 80us/step - loss: 0.0050 - accuracy: 0.9983 - val_loss: 0.0559 - val_accuracy: 0.9880\n",
            "Epoch 5/10\n",
            "60000/60000 [==============================] - 5s 79us/step - loss: 0.0036 - accuracy: 0.9990 - val_loss: 0.0702 - val_accuracy: 0.9857\n",
            "Epoch 6/10\n",
            "60000/60000 [==============================] - 5s 80us/step - loss: 0.0030 - accuracy: 0.9990 - val_loss: 0.0607 - val_accuracy: 0.9874\n",
            "Epoch 7/10\n",
            "60000/60000 [==============================] - 5s 79us/step - loss: 0.0034 - accuracy: 0.9989 - val_loss: 0.0541 - val_accuracy: 0.9899\n",
            "Epoch 8/10\n",
            "60000/60000 [==============================] - 5s 79us/step - loss: 0.0024 - accuracy: 0.9993 - val_loss: 0.0544 - val_accuracy: 0.9895\n",
            "Epoch 9/10\n",
            "60000/60000 [==============================] - 5s 80us/step - loss: 0.0044 - accuracy: 0.9987 - val_loss: 0.0523 - val_accuracy: 0.9874\n",
            "Epoch 10/10\n",
            "60000/60000 [==============================] - 5s 79us/step - loss: 0.0027 - accuracy: 0.9993 - val_loss: 0.0517 - val_accuracy: 0.9889\n"
          ],
          "name": "stdout"
        },
        {
          "output_type": "execute_result",
          "data": {
            "text/plain": [
              "<keras.callbacks.callbacks.History at 0x7f2eda63eac8>"
            ]
          },
          "metadata": {
            "tags": []
          },
          "execution_count": 5
        }
      ]
    },
    {
      "cell_type": "markdown",
      "metadata": {
        "id": "WcqSGUauk9OS",
        "colab_type": "text"
      },
      "source": [
        "## Inference\n",
        "\n",
        "Here, we see that after ~7 epochs, the accuracy remains roughly constant, this is probably due to a large learning rate. Thus, we will now try to implement learning rate decay to get better results."
      ]
    },
    {
      "cell_type": "code",
      "metadata": {
        "id": "oxhGK1GQurMd",
        "colab_type": "code",
        "colab": {
          "base_uri": "https://localhost:8080/",
          "height": 954
        },
        "outputId": "1c3c4a30-0377-406b-d17b-e23d566d87e3"
      },
      "source": [
        "from keras import optimizers\n",
        "\n",
        "model = myModel(X_train.shape[1:])\n",
        "sgd = optimizers.SGD(lr=0.01, decay=1e-6, momentum=0.9, nesterov=True)\n",
        "model.compile(loss=losses.categorical_crossentropy, optimizer=sgd, metrics=['accuracy'])\n",
        "history = model.fit(X_train, Y_train, validation_data = (X_test, Y_test), epochs = 20, batch_size = 64)\n",
        "\n",
        "plt.plot(history.history['loss'], label='train')\n",
        "plt.plot(history.history['val_loss'], label='test')\n",
        "plt.legend()\n",
        "plt.show()"
      ],
      "execution_count": 9,
      "outputs": [
        {
          "output_type": "stream",
          "text": [
            "Train on 60000 samples, validate on 10000 samples\n",
            "Epoch 1/20\n",
            "60000/60000 [==============================] - 5s 77us/step - loss: 0.1416 - accuracy: 0.9565 - val_loss: 0.0668 - val_accuracy: 0.9778\n",
            "Epoch 2/20\n",
            "60000/60000 [==============================] - 4s 73us/step - loss: 0.0553 - accuracy: 0.9824 - val_loss: 0.0658 - val_accuracy: 0.9789\n",
            "Epoch 3/20\n",
            "60000/60000 [==============================] - 4s 74us/step - loss: 0.0415 - accuracy: 0.9868 - val_loss: 0.0458 - val_accuracy: 0.9845\n",
            "Epoch 4/20\n",
            "60000/60000 [==============================] - 4s 73us/step - loss: 0.0346 - accuracy: 0.9891 - val_loss: 0.0379 - val_accuracy: 0.9876\n",
            "Epoch 5/20\n",
            "60000/60000 [==============================] - 4s 74us/step - loss: 0.0287 - accuracy: 0.9912 - val_loss: 0.0368 - val_accuracy: 0.9876\n",
            "Epoch 6/20\n",
            "60000/60000 [==============================] - 4s 75us/step - loss: 0.0253 - accuracy: 0.9919 - val_loss: 0.0404 - val_accuracy: 0.9867\n",
            "Epoch 7/20\n",
            "60000/60000 [==============================] - 4s 74us/step - loss: 0.0215 - accuracy: 0.9935 - val_loss: 0.0329 - val_accuracy: 0.9890\n",
            "Epoch 8/20\n",
            "60000/60000 [==============================] - 4s 74us/step - loss: 0.0187 - accuracy: 0.9942 - val_loss: 0.0385 - val_accuracy: 0.9882\n",
            "Epoch 9/20\n",
            "60000/60000 [==============================] - 4s 73us/step - loss: 0.0172 - accuracy: 0.9947 - val_loss: 0.0406 - val_accuracy: 0.9872\n",
            "Epoch 10/20\n",
            "60000/60000 [==============================] - 4s 75us/step - loss: 0.0141 - accuracy: 0.9959 - val_loss: 0.0369 - val_accuracy: 0.9893\n",
            "Epoch 11/20\n",
            "60000/60000 [==============================] - 4s 75us/step - loss: 0.0125 - accuracy: 0.9962 - val_loss: 0.0428 - val_accuracy: 0.9873\n",
            "Epoch 12/20\n",
            "60000/60000 [==============================] - 4s 74us/step - loss: 0.0110 - accuracy: 0.9969 - val_loss: 0.0387 - val_accuracy: 0.9887\n",
            "Epoch 13/20\n",
            "60000/60000 [==============================] - 4s 74us/step - loss: 0.0097 - accuracy: 0.9973 - val_loss: 0.0438 - val_accuracy: 0.9867\n",
            "Epoch 14/20\n",
            "60000/60000 [==============================] - 4s 73us/step - loss: 0.0081 - accuracy: 0.9978 - val_loss: 0.0388 - val_accuracy: 0.9889\n",
            "Epoch 15/20\n",
            "60000/60000 [==============================] - 4s 73us/step - loss: 0.0076 - accuracy: 0.9980 - val_loss: 0.0397 - val_accuracy: 0.9884\n",
            "Epoch 16/20\n",
            "60000/60000 [==============================] - 4s 73us/step - loss: 0.0069 - accuracy: 0.9985 - val_loss: 0.0414 - val_accuracy: 0.9887\n",
            "Epoch 17/20\n",
            "60000/60000 [==============================] - 4s 73us/step - loss: 0.0055 - accuracy: 0.9988 - val_loss: 0.0472 - val_accuracy: 0.9867\n",
            "Epoch 18/20\n",
            "60000/60000 [==============================] - 4s 73us/step - loss: 0.0047 - accuracy: 0.9990 - val_loss: 0.0401 - val_accuracy: 0.9888\n",
            "Epoch 19/20\n",
            "60000/60000 [==============================] - 4s 73us/step - loss: 0.0041 - accuracy: 0.9993 - val_loss: 0.0408 - val_accuracy: 0.9891\n",
            "Epoch 20/20\n",
            "60000/60000 [==============================] - 4s 73us/step - loss: 0.0039 - accuracy: 0.9992 - val_loss: 0.0467 - val_accuracy: 0.9871\n"
          ],
          "name": "stdout"
        },
        {
          "output_type": "display_data",
          "data": {
            "image/png": "[encoded data removed]",
            "text/plain": [
              "<Figure size 432x288 with 1 Axes>"
            ]
          },
          "metadata": {
            "tags": [],
            "needs_background": "light"
          }
        }
      ]
    },
    {
      "cell_type": "markdown",
      "metadata": {
        "id": "VM_P_GiCur8B",
        "colab_type": "text"
      },
      "source": [
        "# Another model\n",
        "\n",
        "Let us see the results when I add another layer convolutional layer to my model."
      ]
    },
    {
      "cell_type": "code",
      "metadata": {
        "id": "Uzj20K8NlMMJ",
        "colab_type": "code",
        "colab": {}
      },
      "source": [
        "def otherModel(input_shape):\n",
        "    \"\"\"\n",
        "    Implementation of the HappyModel.\n",
        "    \n",
        "    Arguments:\n",
        "    input_shape -- shape of the images of the dataset\n",
        "        (height, width, channels) as a tuple.  \n",
        "        Note that this does not include the 'batch' as a dimension.\n",
        "        If you have a batch like 'X_train', \n",
        "        then you can provide the input_shape using\n",
        "        X_train.shape[1:]\n",
        "\n",
        "    Returns:\n",
        "    model -- a Model() instance in Keras\n",
        "    \"\"\"\n",
        "      \n",
        "    # Define the input placeholder as a tensor with shape input_shape. Think of this as your input image!\n",
        "    X_input = Input(input_shape)\n",
        "\n",
        "    # Zero-Padding: pads the border of X_input with zeroes\n",
        "    X = ZeroPadding2D((3, 3))(X_input)\n",
        "\n",
        "    # CONV -> BN -> RELU Block applied to X\n",
        "    X = Conv2D(16, (7, 7), strides = (1, 1), name = 'conv0')(X)\n",
        "    X = BatchNormalization(axis = 3, name = 'bn0')(X)\n",
        "    X = Activation('relu')(X)\n",
        "\n",
        "    # MAXPOOL\n",
        "    X = MaxPooling2D((2, 2), name='max_pool')(X)\n",
        "\n",
        "    #Second Layer of Stuff\n",
        "    X = Conv2D(32, (7, 7), strides = (1, 1), name = 'conv1')(X)\n",
        "    X = BatchNormalization(axis = 3, name = 'bn1')(X)\n",
        "    X = Activation('relu')(X)\n",
        "\n",
        "    # MAXPOOL\n",
        "    X = MaxPooling2D((2, 2), name='max_pool2')(X)\n",
        "\n",
        "    # FLATTEN X (means convert it to a vector) + FULLYCONNECTED\n",
        "    X = Flatten()(X)\n",
        "    X = Dense(20, activation='relu', name='fc1')(X)\n",
        "    X = Dense(10, activation='sigmoid', name='fc2')(X)\n",
        "\n",
        "    # Create model. This creates your Keras model instance, you'll use this instance to train/test the model.\n",
        "    model = Model(inputs = X_input, outputs = X, name='myModel')    \n",
        "    \n",
        "    return model"
      ],
      "execution_count": 0,
      "outputs": []
    },
    {
      "cell_type": "code",
      "metadata": {
        "id": "6rHddtLgmkKs",
        "colab_type": "code",
        "outputId": "c85fa160-884e-4dda-c3eb-6286c4323ad6",
        "colab": {
          "base_uri": "https://localhost:8080/",
          "height": 954
        }
      },
      "source": [
        "%matplotlib inline\n",
        "model = otherModel(X_train.shape[1:])\n",
        "model.compile(loss=losses.categorical_crossentropy, optimizer='Adam', metrics=['accuracy'])\n",
        "history = model.fit(X_train, Y_train, validation_data = (X_test, Y_test), epochs = 20, batch_size = 64)\n",
        "\n",
        "plt.plot(history.history['loss'], label='train')\n",
        "plt.plot(history.history['val_loss'], label='test')\n",
        "plt.legend()\n",
        "plt.show()"
      ],
      "execution_count": 11,
      "outputs": [
        {
          "output_type": "stream",
          "text": [
            "Train on 60000 samples, validate on 10000 samples\n",
            "Epoch 1/20\n",
            "60000/60000 [==============================] - 7s 112us/step - loss: 0.1715 - accuracy: 0.9491 - val_loss: 0.0752 - val_accuracy: 0.9749\n",
            "Epoch 2/20\n",
            "60000/60000 [==============================] - 6s 106us/step - loss: 0.0456 - accuracy: 0.9856 - val_loss: 0.0342 - val_accuracy: 0.9886\n",
            "Epoch 3/20\n",
            "60000/60000 [==============================] - 6s 105us/step - loss: 0.0339 - accuracy: 0.9896 - val_loss: 0.0326 - val_accuracy: 0.9900\n",
            "Epoch 4/20\n",
            "60000/60000 [==============================] - 6s 105us/step - loss: 0.0272 - accuracy: 0.9914 - val_loss: 0.0334 - val_accuracy: 0.9895\n",
            "Epoch 5/20\n",
            "60000/60000 [==============================] - 6s 104us/step - loss: 0.0233 - accuracy: 0.9925 - val_loss: 0.0404 - val_accuracy: 0.9871\n",
            "Epoch 6/20\n",
            "60000/60000 [==============================] - 6s 105us/step - loss: 0.0198 - accuracy: 0.9935 - val_loss: 0.0468 - val_accuracy: 0.9858\n",
            "Epoch 7/20\n",
            "60000/60000 [==============================] - 6s 106us/step - loss: 0.0161 - accuracy: 0.9948 - val_loss: 0.0281 - val_accuracy: 0.9906\n",
            "Epoch 8/20\n",
            "60000/60000 [==============================] - 6s 104us/step - loss: 0.0150 - accuracy: 0.9951 - val_loss: 0.0253 - val_accuracy: 0.9914\n",
            "Epoch 9/20\n",
            "60000/60000 [==============================] - 6s 106us/step - loss: 0.0117 - accuracy: 0.9962 - val_loss: 0.0258 - val_accuracy: 0.9916\n",
            "Epoch 10/20\n",
            "60000/60000 [==============================] - 6s 106us/step - loss: 0.0102 - accuracy: 0.9967 - val_loss: 0.0473 - val_accuracy: 0.9881\n",
            "Epoch 11/20\n",
            "60000/60000 [==============================] - 6s 105us/step - loss: 0.0104 - accuracy: 0.9969 - val_loss: 0.0291 - val_accuracy: 0.9902\n",
            "Epoch 12/20\n",
            "60000/60000 [==============================] - 6s 106us/step - loss: 0.0091 - accuracy: 0.9970 - val_loss: 0.0356 - val_accuracy: 0.9897\n",
            "Epoch 13/20\n",
            "60000/60000 [==============================] - 6s 105us/step - loss: 0.0079 - accuracy: 0.9972 - val_loss: 0.0301 - val_accuracy: 0.9914\n",
            "Epoch 14/20\n",
            "60000/60000 [==============================] - 6s 105us/step - loss: 0.0068 - accuracy: 0.9979 - val_loss: 0.0359 - val_accuracy: 0.9892\n",
            "Epoch 15/20\n",
            "60000/60000 [==============================] - 6s 105us/step - loss: 0.0079 - accuracy: 0.9974 - val_loss: 0.0265 - val_accuracy: 0.9924\n",
            "Epoch 16/20\n",
            "60000/60000 [==============================] - 6s 105us/step - loss: 0.0059 - accuracy: 0.9981 - val_loss: 0.0337 - val_accuracy: 0.9913\n",
            "Epoch 17/20\n",
            "60000/60000 [==============================] - 6s 106us/step - loss: 0.0046 - accuracy: 0.9985 - val_loss: 0.0247 - val_accuracy: 0.9935\n",
            "Epoch 18/20\n",
            "60000/60000 [==============================] - 6s 105us/step - loss: 0.0046 - accuracy: 0.9985 - val_loss: 0.0413 - val_accuracy: 0.9896\n",
            "Epoch 19/20\n",
            "60000/60000 [==============================] - 6s 106us/step - loss: 0.0082 - accuracy: 0.9973 - val_loss: 0.0393 - val_accuracy: 0.9907\n",
            "Epoch 20/20\n",
            "60000/60000 [==============================] - 6s 108us/step - loss: 0.0043 - accuracy: 0.9986 - val_loss: 0.0271 - val_accuracy: 0.9929\n"
          ],
          "name": "stdout"
        },
        {
          "output_type": "display_data",
          "data": {
            "image/png": "[encoded data removed]",
            "text/plain": [
              "<Figure size 432x288 with 1 Axes>"
            ]
          },
          "metadata": {
            "tags": [],
            "needs_background": "light"
          }
        }
      ]
    },
    {
      "cell_type": "markdown",
      "metadata": {
        "id": "q8rBqNzzxMOk",
        "colab_type": "text"
      },
      "source": [
        "We can see that our second model performs better, we get an accuracy of 99.3% on our test data!"
      ]
    }
  ]
}